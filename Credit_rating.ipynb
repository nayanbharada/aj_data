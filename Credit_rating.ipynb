{
 "cells": [
  {
   "cell_type": "code",
   "execution_count": 5,
   "metadata": {},
   "outputs": [
    {
     "data": {
      "text/plain": [
       "'  Adani Transmission  Limited'"
      ]
     },
     "execution_count": 5,
     "metadata": {},
     "output_type": "execute_result"
    }
   ],
   "source": [
    "## company name (main)\n",
    "import re\n",
    "from pypdf import PdfReader \n",
    "pdf_path = r\"D:\\Python\\ajit\\project_credit_rating\\try\\pdf\\Adani Transmission Limited.pdf\"\n",
    "# reader = PdfReader(pdf_path)\n",
    "# page = reader.pages[0] \n",
    "# text = page.extract_text() \n",
    "text = extract_text_from_pdf(pdf_path)\n",
    "pattern = re.compile(r'\\b[A-Za-z0-9\\s]+(?:Limited|Ltd|Corporation|Corp|Incorporated|Inc|LLC|LLP)\\b', re.IGNORECASE)\n",
    "companies = pattern.findall(text)\n",
    "\n",
    "def company_name(companies):\n",
    "    com_name = []\n",
    "    if 'CARE' in companies[0] or 'ICRA' in companies[0]:\n",
    "        companies.pop(0)\n",
    "    new_first_company = companies[0]\n",
    "    new_first_company = re.sub(r'Press Release\\s+', '', new_first_company, flags=re.IGNORECASE)\n",
    "    new_first_company = re.sub(r'^\\d+\\s+', '', new_first_company)\n",
    "    pattern = re.compile(r'\\b[A-Za-z\\s]+(?:Limited|Ltd|Corporation|Corp|Incorporated|Inc|LLC|LLP)\\b', re.IGNORECASE)\n",
    "    matches = pattern.findall(new_first_company)\n",
    "    expected_company_name = matches[0] if matches else \"\"\n",
    "    expected_company_name = expected_company_name.replace('\\n', ' ')\n",
    "    com_name.append(expected_company_name)\n",
    "    return com_name"
   ]
  },
  {
   "cell_type": "code",
   "execution_count": 4,
   "metadata": {},
   "outputs": [
    {
     "name": "stdout",
     "output_type": "stream",
     "text": [
      "Agencies: ['ICRA']\n"
     ]
    }
   ],
   "source": [
    "## code for Rating Agency name\n",
    "\n",
    "from PyPDF2 import PdfReader\n",
    "def extract_text_from_pdf(pdf_file_path):\n",
    "    reader = PdfReader(pdf_file_path)\n",
    "    page = reader.pages[0]\n",
    "    text = page.extract_text()\n",
    "    return text\n",
    "\n",
    "def find_agency_names(pdf_file_path):\n",
    "    text = extract_text_from_pdf(pdf_file_path)\n",
    "    agencies = []\n",
    "    if 'CARE' in text:\n",
    "        agencies.append('CARE')\n",
    "    if 'ICRA' in text:\n",
    "        agencies.append('ICRA')\n",
    "    if 'Brickwork rating' in text or 'brickworkrating' in text:\n",
    "        agencies.append('Brickworks')\n",
    "    return agencies\n",
    "\n",
    "pdf_file_path = r\"D:\\Python\\ajit\\project_credit_rating\\try\\pdf\\Adani Transmission Limited.pdf\"\n",
    "agencies = find_agency_names(pdf_file_path)\n",
    "print(\"Agencies:\", agencies)\n"
   ]
  },
  {
   "cell_type": "code",
   "execution_count": null,
   "metadata": {},
   "outputs": [],
   "source": [
    "## code for outlook - stable or positive or negative\n",
    "def outlook(data):\n",
    "    ratings = []\n",
    "    for row in data[1:]:\n",
    "        rating = row[2]\n",
    "        if 'Stable' in rating:\n",
    "            ratings.append('Stable')\n",
    "        elif 'Positive' in rating or 'Negative' in rating:\n",
    "            ratings.append(rating.split(';')[1].strip())\n",
    "        else:\n",
    "            ratings.append('-')\n",
    "\n",
    "    return ratings"
   ]
  },
  {
   "cell_type": "code",
   "execution_count": 6,
   "metadata": {},
   "outputs": [],
   "source": [
    "import numpy as np\n",
    "def remove_commas(data):\n",
    "    for row in data:\n",
    "        for i in range(len(row)):\n",
    "            if isinstance(row[i], str) and row[i].replace(',', '').replace('.', '').isdigit():\n",
    "                row[i] = row[i].replace(',', '')\n",
    "    return data\n"
   ]
  },
  {
   "cell_type": "code",
   "execution_count": null,
   "metadata": {},
   "outputs": [],
   "source": [
    "## all amount extract (main)\n",
    "def extract_all_amount(data):\n",
    "    short_term_amounts = []\n",
    "    long_term_amounts = []\n",
    "    unallocated_amounts = []\n",
    "    for row in data[1:]:\n",
    "        facility1 = row[0]\n",
    "        facility = facility1.lower()\n",
    "        amount = float(row[1])\n",
    "        \n",
    "        if 'short term' in facility or 'long term / short term' in facility or 'short-term' in facility :\n",
    "            short_term_amounts.append(amount)\n",
    "            long_term_amounts.append(0.00)\n",
    "            unallocated_amounts.append(0.00)\n",
    "        elif 'long term' in facility or 'long-term' in facility:\n",
    "            long_term_amounts.append(amount)\n",
    "            short_term_amounts.append(0.00)\n",
    "            unallocated_amounts.append(0.00)\n",
    "        else:\n",
    "            unallocated_amounts.append(amount)\n",
    "            short_term_amounts.append(0.00)\n",
    "            long_term_amounts.append(0.00)\n",
    "    return short_term_amounts, long_term_amounts, unallocated_amounts\n",
    "\n",
    "extract_all_amount(data)\n"
   ]
  },
  {
   "cell_type": "code",
   "execution_count": 2,
   "metadata": {},
   "outputs": [
    {
     "name": "stdout",
     "output_type": "stream",
     "text": [
      "Extracted Ratings: ['BBB-/A3/A-;Negative', 'A3', 'AA+/A1+']\n"
     ]
    }
   ],
   "source": [
    "## Rating (main)\n",
    "\n",
    "import re\n",
    "import numpy as np\n",
    "\n",
    "def extract_ratings_from_data(data):\n",
    "    rating_pattern = re.compile(r'\\b(?:[A-Z]{1,3}[+-]?/[A-Z0-9+-]+(?:/[A-Z0-9+-]+)?(?:;Negative)?)\\b|[A-Z0-9+-]+(?:;Negative)?')\n",
    "    ratings = []\n",
    "    for row in data:\n",
    "        row_ratings = []\n",
    "        for cell in row:\n",
    "            if isinstance(cell, str): \n",
    "                matches = rating_pattern.findall(cell)\n",
    "                valid_matches = [match for match in matches if len(match) > 1 and not match.isdigit() and match not in ['CARE', 'ICRA', 'Commercial paper (CP)','CP','CE']]\n",
    "                row_ratings.extend(valid_matches)\n",
    "        if row_ratings:\n",
    "            ratings.append('/'.join(row_ratings))\n",
    "    \n",
    "    return ratings\n",
    "ratings = extract_ratings_from_data(data)\n",
    "print(\"Extracted Ratings:\", ratings)\n"
   ]
  },
  {
   "cell_type": "code",
   "execution_count": 3,
   "metadata": {},
   "outputs": [
    {
     "name": "stdout",
     "output_type": "stream",
     "text": [
      "Names: ['Sabyasachi Majumdar']\n",
      "Emails: ['sabyasachi@icraindia.com']\n",
      "Contact Numbers: ['+91 124 4545304']\n"
     ]
    }
   ],
   "source": [
    "## Analyst contact details (main)\n",
    "\n",
    "import re\n",
    "from PyPDF2 import PdfReader\n",
    "\n",
    "# pdf_path = r\"D:\\Python\\ajit\\project_credit_rating\\try\\pdf\\Adani Agri Fresh Limited 1.pdf\"\n",
    "pdf_path = r\"D:\\Python\\ajit\\project_credit_rating\\try\\pdf\\Adani Transmission Limited.pdf\"\n",
    "def extract_text_from_last_pages(pdf_file_path, num_pages=3):\n",
    "    reader = PdfReader(pdf_file_path)\n",
    "    text = \"\"\n",
    "    total_pages = len(reader.pages)\n",
    "    for page_num in range(total_pages - num_pages, total_pages):\n",
    "        text += reader.pages[page_num].extract_text()\n",
    "    return text\n",
    "\n",
    "def extract_analyst_contacts(pdf_file_path):\n",
    "    text = extract_text_from_last_pages(pdf_file_path)\n",
    "    \n",
    "    if \"ANALYST CONTACT\" in text:\n",
    "        name_pattern = re.compile(r'(?<=\\n)[A-Za-z\\s]+(?=\\n\\+\\d{2}\\s\\d{2,3}\\s\\d{7,10})')\n",
    "        email_pattern = re.compile(r'[\\w\\.-]+@[\\w\\.-]+')\n",
    "        phone_pattern = re.compile(r'\\+\\d{2}\\s\\d{2,3}\\s\\d{7,10}')\n",
    "        names = name_pattern.findall(text)\n",
    "        emails = email_pattern.findall(text)\n",
    "        phones = phone_pattern.findall(text)\n",
    "        names_list = []\n",
    "        emails_list = []\n",
    "        contact_numbers_list = []\n",
    "        \n",
    "        for name, phone in zip(names, phones):\n",
    "            email_match = email_pattern.search(text, text.find(phone))\n",
    "            email = email_match.group(0) if email_match else None\n",
    "            names_list.append(name.strip())\n",
    "            emails_list.append(email)\n",
    "            contact_numbers_list.append(phone)\n",
    "\n",
    "        return names_list, emails_list, contact_numbers_list\n",
    "    else:\n",
    "        return [], [], []\n",
    "\n",
    "\n",
    "names, emails, contact_numbers = extract_analyst_contacts(pdf_path)\n",
    "print(\"Names:\", names)\n",
    "print(\"Emails:\", emails)\n",
    "print(\"Contact Numbers:\", contact_numbers)\n"
   ]
  },
  {
   "cell_type": "code",
   "execution_count": 6,
   "metadata": {},
   "outputs": [
    {
     "data": {
      "text/plain": [
       "['ST', 'LT', 'ST', 'ST', 'ST']"
      ]
     },
     "execution_count": 6,
     "metadata": {},
     "output_type": "execute_result"
    }
   ],
   "source": [
    "# ## Type of rating (main)\n",
    "# def type_of_rating(data):\n",
    "#     facilities = []\n",
    "#     for row in data[1:]:\n",
    "#         facility = row[0]\n",
    "#         if 'Short Term' in facility or 'Long Term / Short Term' in facility:\n",
    "#             facilities.append('ST')\n",
    "#         elif 'Long Term' in facility:\n",
    "#             facilities.append('LT')\n",
    "#         elif 'Unallocated Term' in facility:\n",
    "#             facilities.append('UT')\n",
    "#         else:\n",
    "#             facilities.append('ST')\n",
    "#     return facilities\n",
    "\n",
    "# # type_of_rating(data)\n",
    "\n",
    "def type_of_rating(data):\n",
    "    facilities = []\n",
    "    for row in data[1:]:\n",
    "        facility1 = row[0]\n",
    "        facility = facility1.lower()\n",
    "        print(facility)\n",
    "        if 'short term' in facility or 'long term / short term' in facility:\n",
    "            facilities.append('ST')\n",
    "        elif 'long term' in facility or 'long-term'in facility or 'long - term'in facility:\n",
    "            facilities.append('LT')\n",
    "        elif 'unallocated term' in facility:\n",
    "            facilities.append('UT')\n",
    "        else:\n",
    "            facilities.append('ST')\n",
    "    return facilities"
   ]
  },
  {
   "cell_type": "code",
   "execution_count": 9,
   "metadata": {},
   "outputs": [
    {
     "name": "stdout",
     "output_type": "stream",
     "text": [
      "Facilities: ['Commercial paper (CP)', 'Fund-based - Term Loan', 'Long Term / Short Term Bank Facilities']\n"
     ]
    }
   ],
   "source": [
    "# code for type of facilities (main)\n",
    "\n",
    "import re\n",
    "import numpy as np\n",
    "data = [\n",
    "    ['Previous Rated Amount\\nCurrent Rated Amount\\nInstrument*\\nRating Action\\n(Rs. crore)\\n(Rs. crore)', np.nan, np.nan, np.nan],\n",
    "    ['Commercial paper (CP)', '1,000.00', '1,000.00', '[ICRA]A1+; reaffirmed'],\n",
    "    ['Long Term Bank Facilities@', '100.00', 'CARE A1+', 'Reaffirmed'],\n",
    "     ['Fund-based - Term Loan', '200.00', 'CARE A1+', 'Reaffirmed'],\n",
    "     ['Long Term / Short Term Bank Facilities', '145.00', 'CARE BBB-; Stable / CARE A3 A-;Negative', 'Reaffirmed'],\n",
    "    ['Total', '1,000.00', '1,000.00', np.nan]\n",
    "]\n",
    "\n",
    "def extract_type_of_facilities(data):\n",
    "    facilities = []\n",
    "    pattern = re.compile(r'Commercial paper \\(CP\\)|^[A-Za-z\\s\\-\\/\\(\\)]+(?:Bank Facilities|Term Loan|Commercial paper|Amount)$')\n",
    "    for row in data:\n",
    "        if isinstance(row[0], str) and pattern.match(row[0]):\n",
    "            facilities.append(row[0])\n",
    "    \n",
    "    return facilities\n",
    "\n",
    "commercial_paper_facilities = extract_type_of_facilities(data)\n",
    "\n",
    "print(\"Facilities:\", commercial_paper_facilities)\n"
   ]
  },
  {
   "cell_type": "code",
   "execution_count": null,
   "metadata": {},
   "outputs": [],
   "source": []
  },
  {
   "cell_type": "code",
   "execution_count": null,
   "metadata": {},
   "outputs": [],
   "source": []
  },
  {
   "cell_type": "code",
   "execution_count": null,
   "metadata": {},
   "outputs": [],
   "source": []
  },
  {
   "cell_type": "code",
   "execution_count": null,
   "metadata": {},
   "outputs": [],
   "source": []
  }
 ],
 "metadata": {
  "kernelspec": {
   "display_name": "Python 3",
   "language": "python",
   "name": "python3"
  },
  "language_info": {
   "codemirror_mode": {
    "name": "ipython",
    "version": 3
   },
   "file_extension": ".py",
   "mimetype": "text/x-python",
   "name": "python",
   "nbconvert_exporter": "python",
   "pygments_lexer": "ipython3",
   "version": "3.11.1"
  }
 },
 "nbformat": 4,
 "nbformat_minor": 2
}
